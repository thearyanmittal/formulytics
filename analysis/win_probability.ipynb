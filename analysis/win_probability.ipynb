{
 "cells": [
  {
   "cell_type": "code",
   "execution_count": 438,
   "metadata": {},
   "outputs": [],
   "source": [
    "# predict probability of podium based on data in form ([lap number, time per lap, pit stops?, grid number], podium?) -> or expected position\n",
    "import numpy as np\n",
    "import pandas as pd\n",
    "import pickle\n",
    "\n",
    "from sklearn.pipeline import make_pipeline\n",
    "from sklearn.preprocessing import StandardScaler\n",
    "from sklearn.linear_model import LogisticRegression, SGDClassifier\n",
    "from sklearn.neural_network import MLPClassifier"
   ]
  },
  {
   "cell_type": "code",
   "execution_count": 439,
   "metadata": {},
   "outputs": [],
   "source": [
    "# load data\n",
    "drivers = pd.read_excel('data/drivers.xlsx').set_index('driverId')\n",
    "lapTimes = pd.read_csv('data/lapTimes.csv')\n",
    "results = pd.read_csv('data/results.csv')\n",
    "races = pd.read_csv('data/races.csv')"
   ]
  },
  {
   "cell_type": "code",
   "execution_count": 440,
   "metadata": {},
   "outputs": [],
   "source": [
    "# for one race, then all in 2012-2016\n",
    "# features [results: grid, lap number (should increase confidence), position, lap time / min lap time for raceId, elapsed time / min for raceId]\n",
    "# label [results: positionOrder]\n",
    "# because of elapsed time, for 2nd lap onwards\n",
    "\n",
    "race_ids = list(range(948, 969)) + list(range(931, 946)) + list(range(900, 919)) + list(range(880, 900)) + list(range(860, 880))\n",
    "X = []\n",
    "X_grid = []\n",
    "y = []\n",
    "y_pos = []\n",
    "\n",
    "for race_id in race_ids:\n",
    "    if race_id == 917:\n",
    "        continue\n",
    "    lapData = lapTimes[lapTimes['raceId'] == race_id].sort_values(['driverId', 'lap']) #FOR LOOP FOR ALL RACES CONSIDERED\n",
    "    lapData['elapsed'] = np.zeros(len(lapData))\n",
    "    for i in range(len(lapData) - 1):\n",
    "        if lapData.iloc[i]['lap'] == 1:\n",
    "            lapData.iloc[i, lapData.columns.get_loc('elapsed')] = 0\n",
    "        lapData.iloc[i+1, lapData.columns.get_loc('elapsed')] = \\\n",
    "        lapData.iloc[i, lapData.columns.get_loc('elapsed')] + lapData.iloc[i, lapData.columns.get_loc('milliseconds')] / 1000\n",
    "\n",
    "    lap_mins = [None]\n",
    "    for g in (lap_groups := lapData[lapData['raceId'] == race_id].groupby('lap')).groups:\n",
    "        lap_mins.append(lap_groups.get_group(g)['milliseconds'].min())\n",
    "\n",
    "    elapsed_mins = [None]\n",
    "    for g in lap_groups.groups:\n",
    "        elapsed_mins.append(lap_groups.get_group(g)['elapsed'].min())\n",
    "\n",
    "    for (index, row) in lapData[lapData['raceId'] == race_id].sort_values('lap').iterrows():\n",
    "        if (row['lap'] >= 2):\n",
    "            X.append([\n",
    "                row['lap'] / lapData[lapData['raceId'] == race_id]['lap'].max(),\n",
    "                row['position'],\n",
    "                row['milliseconds'] / lap_mins[row['lap']],\n",
    "                row['elapsed'] / elapsed_mins[row['lap']]\n",
    "            ])\n",
    "            X_grid.append(int(results[(results['raceId'] == race_id) & (results['driverId'] == row['driverId'])]['grid']))\n",
    "            y.append(int(results[(results['raceId'] == race_id) & (results['driverId'] == row['driverId'])]['positionOrder']) == 1)\n",
    "            y_pos.append(int(results[(results['raceId'] == race_id) & (results['driverId'] == row['driverId'])]['positionOrder']))"
   ]
  },
  {
   "cell_type": "code",
   "execution_count": 441,
   "metadata": {},
   "outputs": [
    {
     "name": "stdout",
     "output_type": "stream",
     "text": [
      "Grid Pos 1: 0.351\n",
      "Grid Pos 2: 0.226\n",
      "Grid Pos 3: 0.136\n",
      "Grid Pos 4: 0.079\n",
      "Grid Pos 5: 0.044\n",
      "Grid Pos 6: 0.024\n",
      "Grid Pos 7: 0.013\n",
      "Grid Pos 8: 0.007\n",
      "Grid Pos 9: 0.004\n",
      "Grid Pos 10: 0.002\n",
      "Grid Pos 11: 0.001\n",
      "Grid Pos 12: 0.001\n",
      "Grid Pos 13: 0.0\n",
      "Grid Pos 14: 0.0\n",
      "Grid Pos 15: 0.0\n",
      "Grid Pos 16: 0.0\n",
      "Grid Pos 17: 0.0\n",
      "Grid Pos 18: 0.0\n",
      "Grid Pos 19: 0.0\n",
      "Grid Pos 20: 0.0\n"
     ]
    }
   ],
   "source": [
    "# logistic regression classifier to predict chance of winning for each initial grid position (cannot take % since uneven data)\n",
    "clf_grid = LogisticRegression(fit_intercept=False).fit([[x] for x in X_grid], y)\n",
    "\n",
    "for i in range(1,21):\n",
    "    print(f'Grid Pos {i}: {round(clf_grid.predict_proba([[i]])[0][1], 3)}')"
   ]
  },
  {
   "cell_type": "code",
   "execution_count": 442,
   "metadata": {},
   "outputs": [
    {
     "name": "stderr",
     "output_type": "stream",
     "text": [
      "/Users/aryanmittal/.local/share/virtualenvs/formulytics-WdcqklGX/lib/python3.10/site-packages/sklearn/neural_network/_multilayer_perceptron.py:684: ConvergenceWarning: Stochastic Optimizer: Maximum iterations (100) reached and the optimization hasn't converged yet.\n",
      "  warnings.warn(\n"
     ]
    },
    {
     "data": {
      "text/html": [
       "<style>#sk-container-id-14 {color: black;background-color: white;}#sk-container-id-14 pre{padding: 0;}#sk-container-id-14 div.sk-toggleable {background-color: white;}#sk-container-id-14 label.sk-toggleable__label {cursor: pointer;display: block;width: 100%;margin-bottom: 0;padding: 0.3em;box-sizing: border-box;text-align: center;}#sk-container-id-14 label.sk-toggleable__label-arrow:before {content: \"▸\";float: left;margin-right: 0.25em;color: #696969;}#sk-container-id-14 label.sk-toggleable__label-arrow:hover:before {color: black;}#sk-container-id-14 div.sk-estimator:hover label.sk-toggleable__label-arrow:before {color: black;}#sk-container-id-14 div.sk-toggleable__content {max-height: 0;max-width: 0;overflow: hidden;text-align: left;background-color: #f0f8ff;}#sk-container-id-14 div.sk-toggleable__content pre {margin: 0.2em;color: black;border-radius: 0.25em;background-color: #f0f8ff;}#sk-container-id-14 input.sk-toggleable__control:checked~div.sk-toggleable__content {max-height: 200px;max-width: 100%;overflow: auto;}#sk-container-id-14 input.sk-toggleable__control:checked~label.sk-toggleable__label-arrow:before {content: \"▾\";}#sk-container-id-14 div.sk-estimator input.sk-toggleable__control:checked~label.sk-toggleable__label {background-color: #d4ebff;}#sk-container-id-14 div.sk-label input.sk-toggleable__control:checked~label.sk-toggleable__label {background-color: #d4ebff;}#sk-container-id-14 input.sk-hidden--visually {border: 0;clip: rect(1px 1px 1px 1px);clip: rect(1px, 1px, 1px, 1px);height: 1px;margin: -1px;overflow: hidden;padding: 0;position: absolute;width: 1px;}#sk-container-id-14 div.sk-estimator {font-family: monospace;background-color: #f0f8ff;border: 1px dotted black;border-radius: 0.25em;box-sizing: border-box;margin-bottom: 0.5em;}#sk-container-id-14 div.sk-estimator:hover {background-color: #d4ebff;}#sk-container-id-14 div.sk-parallel-item::after {content: \"\";width: 100%;border-bottom: 1px solid gray;flex-grow: 1;}#sk-container-id-14 div.sk-label:hover label.sk-toggleable__label {background-color: #d4ebff;}#sk-container-id-14 div.sk-serial::before {content: \"\";position: absolute;border-left: 1px solid gray;box-sizing: border-box;top: 0;bottom: 0;left: 50%;z-index: 0;}#sk-container-id-14 div.sk-serial {display: flex;flex-direction: column;align-items: center;background-color: white;padding-right: 0.2em;padding-left: 0.2em;position: relative;}#sk-container-id-14 div.sk-item {position: relative;z-index: 1;}#sk-container-id-14 div.sk-parallel {display: flex;align-items: stretch;justify-content: center;background-color: white;position: relative;}#sk-container-id-14 div.sk-item::before, #sk-container-id-14 div.sk-parallel-item::before {content: \"\";position: absolute;border-left: 1px solid gray;box-sizing: border-box;top: 0;bottom: 0;left: 50%;z-index: -1;}#sk-container-id-14 div.sk-parallel-item {display: flex;flex-direction: column;z-index: 1;position: relative;background-color: white;}#sk-container-id-14 div.sk-parallel-item:first-child::after {align-self: flex-end;width: 50%;}#sk-container-id-14 div.sk-parallel-item:last-child::after {align-self: flex-start;width: 50%;}#sk-container-id-14 div.sk-parallel-item:only-child::after {width: 0;}#sk-container-id-14 div.sk-dashed-wrapped {border: 1px dashed gray;margin: 0 0.4em 0.5em 0.4em;box-sizing: border-box;padding-bottom: 0.4em;background-color: white;}#sk-container-id-14 div.sk-label label {font-family: monospace;font-weight: bold;display: inline-block;line-height: 1.2em;}#sk-container-id-14 div.sk-label-container {text-align: center;}#sk-container-id-14 div.sk-container {/* jupyter's `normalize.less` sets `[hidden] { display: none; }` but bootstrap.min.css set `[hidden] { display: none !important; }` so we also need the `!important` here to be able to override the default hidden behavior on the sphinx rendered scikit-learn.org. See: https://github.com/scikit-learn/scikit-learn/issues/21755 */display: inline-block !important;position: relative;}#sk-container-id-14 div.sk-text-repr-fallback {display: none;}</style><div id=\"sk-container-id-14\" class=\"sk-top-container\"><div class=\"sk-text-repr-fallback\"><pre>MLPClassifier(hidden_layer_sizes=(12,), max_iter=100, random_state=1)</pre><b>In a Jupyter environment, please rerun this cell to show the HTML representation or trust the notebook. <br />On GitHub, the HTML representation is unable to render, please try loading this page with nbviewer.org.</b></div><div class=\"sk-container\" hidden><div class=\"sk-item\"><div class=\"sk-estimator sk-toggleable\"><input class=\"sk-toggleable__control sk-hidden--visually\" id=\"sk-estimator-id-28\" type=\"checkbox\" checked><label for=\"sk-estimator-id-28\" class=\"sk-toggleable__label sk-toggleable__label-arrow\">MLPClassifier</label><div class=\"sk-toggleable__content\"><pre>MLPClassifier(hidden_layer_sizes=(12,), max_iter=100, random_state=1)</pre></div></div></div></div></div>"
      ],
      "text/plain": [
       "MLPClassifier(hidden_layer_sizes=(12,), max_iter=100, random_state=1)"
      ]
     },
     "execution_count": 442,
     "metadata": {},
     "output_type": "execute_result"
    }
   ],
   "source": [
    "# fit SGDClassifier to predict finish position\n",
    "sgd_clf = make_pipeline(StandardScaler(), SGDClassifier(loss='modified_huber', penalty='elasticnet', max_iter=10000))\n",
    "sgd_clf.fit(X, y_pos)\n",
    "\n",
    "# fit neural network to predict finish position\n",
    "nn_clf = MLPClassifier(hidden_layer_sizes=(12,), random_state=1, max_iter=100)\n",
    "nn_clf.fit(X, y_pos)"
   ]
  },
  {
   "cell_type": "code",
   "execution_count": 446,
   "metadata": {},
   "outputs": [
    {
     "name": "stdout",
     "output_type": "stream",
     "text": [
      "[0.00673825 0.04320008 0.05123266 0.10059823 0.15279608 0.17470421\n",
      " 0.1287309  0.07513394 0.04845333 0.04529304 0.02358048 0.01645719\n",
      " 0.01883897 0.0086729  0.01108026 0.00791394 0.01088938 0.00889445\n",
      " 0.0176549  0.02107401 0.00892152 0.01301186 0.00409496 0.00203444]\n",
      "[6]\n"
     ]
    },
    {
     "data": {
      "text/plain": [
       "0.27339317228684745"
      ]
     },
     "execution_count": 446,
     "metadata": {},
     "output_type": "execute_result"
    }
   ],
   "source": [
    "# neural network performs better and more consistent, since probabilities better spread out\n",
    "vec = [.1, 5, 1, 1.01]\n",
    "print(nn_clf.predict_proba([vec])[0])\n",
    "print(nn_clf.predict([vec]))\n",
    "nn_clf.score(X, y_pos)"
   ]
  },
  {
   "cell_type": "code",
   "execution_count": 444,
   "metadata": {},
   "outputs": [
    {
     "name": "stdout",
     "output_type": "stream",
     "text": [
      "[[0.         0.09106643 0.09779911 0.14169046 0.11784386 0.14033768\n",
      "  0.12027855 0.0608513  0.         0.01901675 0.04922827 0.06057154\n",
      "  0.02147929 0.0125017  0.02383935 0.         0.         0.\n",
      "  0.         0.04349572 0.         0.         0.         0.        ]]\n",
      "[4]\n"
     ]
    },
    {
     "data": {
      "text/plain": [
       "0.16127104009715923"
      ]
     },
     "execution_count": 444,
     "metadata": {},
     "output_type": "execute_result"
    }
   ],
   "source": [
    "print(sgd_clf.predict_proba([vec]))\n",
    "print(sgd_clf.predict([vec]))\n",
    "sgd_clf.score(X, y_pos)"
   ]
  },
  {
   "cell_type": "code",
   "execution_count": 445,
   "metadata": {},
   "outputs": [],
   "source": [
    "# pickle neural network for use in get_data and send_data\n",
    "with open('models/exp_pos_model.pkl', 'wb') as f:\n",
    "    pickle.dump(nn_clf, f)"
   ]
  }
 ],
 "metadata": {
  "kernelspec": {
   "display_name": "formulytics-WdcqklGX",
   "language": "python",
   "name": "python3"
  },
  "language_info": {
   "codemirror_mode": {
    "name": "ipython",
    "version": 3
   },
   "file_extension": ".py",
   "mimetype": "text/x-python",
   "name": "python",
   "nbconvert_exporter": "python",
   "pygments_lexer": "ipython3",
   "version": "3.10.10"
  },
  "orig_nbformat": 4,
  "vscode": {
   "interpreter": {
    "hash": "436f9d542fa44641a537e533deae025e5db737f99b41c8a356da7ef66e9ea3e4"
   }
  }
 },
 "nbformat": 4,
 "nbformat_minor": 2
}
