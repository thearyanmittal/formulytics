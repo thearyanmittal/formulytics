{
 "cells": [
  {
   "cell_type": "code",
   "execution_count": 1,
   "metadata": {},
   "outputs": [],
   "source": [
    "# imports\n",
    "import numpy as np\n",
    "import pandas as pd"
   ]
  },
  {
   "cell_type": "code",
   "execution_count": 45,
   "metadata": {},
   "outputs": [],
   "source": [
    "# import and view data\n",
    "drivers = pd.read_excel('data/drivers.xlsx').set_index('driverId')\n",
    "lapTimes = pd.read_csv('data/lapTimes.csv')\n",
    "pitStops = pd.read_csv('data/pitStops.csv')\n",
    "results = pd.read_csv('data/results.csv')\n",
    "races = pd.read_csv('data/races.csv')"
   ]
  },
  {
   "cell_type": "code",
   "execution_count": 138,
   "metadata": {},
   "outputs": [],
   "source": [
    "# get data in form (lap index, driver name/flag, lap time, total time for last n-1 laps, pit stop time) for a single race (969)\n",
    "# every time a driver finishes a lap, send this data\n",
    "out = []\n",
    "RACE_ID = 969\n",
    "\n",
    "# create elapsed column\n",
    "lapTimes = lapTimes[lapTimes['raceId'] == RACE_ID].sort_values(['driverId', 'lap'])\n",
    "lapTimes['elapsed'] = np.zeros(len(lapTimes))\n",
    "for i in range(len(lapTimes) - 1):\n",
    "    if lapTimes.iloc[i]['lap'] == 1:\n",
    "        lapTimes.iloc[i, lapTimes.columns.get_loc('elapsed')] = 0\n",
    "    lapTimes.iloc[i+1, lapTimes.columns.get_loc('elapsed')] = \\\n",
    "    lapTimes.iloc[i, lapTimes.columns.get_loc('elapsed')] + lapTimes.iloc[i, lapTimes.columns.get_loc('milliseconds')] / 1000\n",
    "\n",
    "# extract data of interest\n",
    "lap_data = lapTimes[lapTimes['raceId'] == RACE_ID].sort_values(['lap', 'time'])\n",
    "pit_data = pitStops[pitStops['raceId'] == RACE_ID]\n",
    "\n",
    "for (index, row) in lap_data.iterrows():\n",
    "    name = drivers.loc[row['driverId']]['forename'] + ' ' + drivers.loc[row['driverId']]['surname'] + ' ' + drivers.loc[row['driverId']]['flag']\n",
    "    if len(pit_stop := pit_data[(pit_data['driverId'] == row['driverId']) & (pit_data['lap'] == row['lap'])]) == 0:\n",
    "        pit_stop_time = 0\n",
    "    else:\n",
    "        pit_stop_time = pit_stop['milliseconds'] / 1000\n",
    "    \n",
    "    out.append(\n",
    "        {\n",
    "            'lap_index': row['lap'],\n",
    "            'driver_name': name,\n",
    "            'lap_time': row['milliseconds'] / 1000,\n",
    "            'pit_stop_time': pit_stop_time,\n",
    "            'prev_elapsed': row['elapsed'],\n",
    "            'position': row['position']\n",
    "        }\n",
    "    )\n",
    "out = sorted(out, key=lambda d: d['prev_elapsed'])"
   ]
  },
  {
   "cell_type": "code",
   "execution_count": 137,
   "metadata": {},
   "outputs": [],
   "source": [
    "# to excel\n",
    "pd.DataFrame(out).to_excel('data/out.xlsx')"
   ]
  }
 ],
 "metadata": {
  "kernelspec": {
   "display_name": "formulytics-WdcqklGX",
   "language": "python",
   "name": "python3"
  },
  "language_info": {
   "codemirror_mode": {
    "name": "ipython",
    "version": 3
   },
   "file_extension": ".py",
   "mimetype": "text/x-python",
   "name": "python",
   "nbconvert_exporter": "python",
   "pygments_lexer": "ipython3",
   "version": "3.10.9"
  },
  "orig_nbformat": 4,
  "vscode": {
   "interpreter": {
    "hash": "436f9d542fa44641a537e533deae025e5db737f99b41c8a356da7ef66e9ea3e4"
   }
  }
 },
 "nbformat": 4,
 "nbformat_minor": 2
}
